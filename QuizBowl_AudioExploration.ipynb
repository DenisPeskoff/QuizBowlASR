{
 "cells": [
  {
   "cell_type": "markdown",
   "metadata": {},
   "source": [
    "## Exploratory Analysis of Quiz Bowl Input and the Quality of Speech Recognition "
   ]
  },
  {
   "cell_type": "markdown",
   "metadata": {},
   "source": [
    "Works in both Python2.  The below dependencies are needed; all pip installable.  PocketSphynx needed for deciphering sound data locally, and installation only worked on Python2 on MacOS."
   ]
  },
  {
   "cell_type": "markdown",
   "metadata": {},
   "source": [
    "TODOs:  Explore \"Slow\" vs \"Fast\" TTS speech.  Explore human-speech and not TTS.  Explore Google or MSFT Speech Recognition.  Account for Unicode in data.  "
   ]
  },
  {
   "cell_type": "code",
   "execution_count": 2,
   "metadata": {
    "collapsed": true
   },
   "outputs": [],
   "source": [
    "#math\n",
    "\n",
    "import pandas\n",
    "from scipy import stats\n",
    "import numpy as np\n",
    "from collections import Counter\n",
    "from scipy import stats\n",
    "\n",
    "#wrangling + plotting\n",
    "import csv\n",
    "import glob \n",
    "import matplotlib.pyplot as plt\n",
    "import pprint\n",
    "from collections import defaultdict\n",
    "\n",
    "#speech\n",
    "from gtts import gTTS\n",
    "import speech_recognition as sr\n",
    "import subprocess\n",
    "import spacy\n",
    "nlp = spacy.load('en')\n",
    "import nltk.translate.bleu_score as bleu"
   ]
  },
  {
   "cell_type": "code",
   "execution_count": 94,
   "metadata": {
    "collapsed": false
   },
   "outputs": [
    {
     "name": "stdout",
     "output_type": "stream",
     "text": [
      "Possible transcriptions:\n"
     ]
    }
   ],
   "source": [
    "r = sr.Recognizer()\n",
    "\n",
    "with sr.AudioFile('short.wav') as source:              \n",
    "    audio = r.record(source)\n",
    "\n",
    "    #PocketSphinx is used locally to decipher the audio\n",
    "    try:\n",
    "        list = r.recognize_google(audio,show_all=True)                # generate a list of possible transcriptions\n",
    "        print(\"Possible transcriptions:\")\n",
    "        #for prediction in list:\n",
    "        #    print(\" \" + prediction[\"text\"] + \" (\" + str(prediction[\"confidence\"]*100) + \"%)\")\n",
    "    except LookupError:                                 # speech is unintelligible\n",
    "        print(\"Could not understand audio\")\n",
    "#print audio_data\n",
    "\n"
   ]
  },
  {
   "cell_type": "code",
   "execution_count": 95,
   "metadata": {
    "collapsed": false
   },
   "outputs": [
    {
     "data": {
      "text/plain": [
       "{u'alternative': [{u'confidence': 0.84984362,\n",
       "   u'transcript': u'in May 2015 Joe Bertram challenge London mayor Boris Johnson'},\n",
       "  {u'transcript': u'in a 2015 Joe Bertram challenge London mayor Boris Johnson'},\n",
       "  {u'transcript': u'in May 2015 Joubert room challenge London mayor Boris Johnson'},\n",
       "  {u'transcript': u'inmate 2015 Joe Bertram challenge London mayor Boris Johnson'},\n",
       "  {u'transcript': u'in May 2015 Joe Bertram challenged London mayor Boris Johnson'}],\n",
       " u'final': True}"
      ]
     },
     "execution_count": 95,
     "metadata": {},
     "output_type": "execute_result"
    }
   ],
   "source": [
    "list"
   ]
  },
  {
   "cell_type": "code",
   "execution_count": 93,
   "metadata": {
    "collapsed": false
   },
   "outputs": [],
   "source": [
    "list.get_lattice().write_htk(\"detailed_lattice\")"
   ]
  },
  {
   "cell_type": "code",
   "execution_count": 87,
   "metadata": {
    "collapsed": false
   },
   "outputs": [
    {
     "name": "stdout",
     "output_type": "stream",
     "text": [
      "Help on class Lattice in module pocketsphinx.pocketsphinx:\n",
      "\n",
      "class Lattice(__builtin__.object)\n",
      " |  Proxy of C Lattice struct.\n",
      " |  \n",
      " |  Methods defined here:\n",
      " |  \n",
      " |  __del__ lambda self\n",
      " |  \n",
      " |  __init__(self, *args)\n",
      " |      __init__(Lattice self, char const * path) -> Lattice\n",
      " |      __init__(Lattice self, Decoder decoder, char * path) -> Lattice\n",
      " |  \n",
      " |  __repr__ = _swig_repr(self)\n",
      " |  \n",
      " |  write(self, path)\n",
      " |      write(Lattice self, char const * path)\n",
      " |  \n",
      " |  write_htk(self, path)\n",
      " |      write_htk(Lattice self, char const * path)\n",
      " |  \n",
      " |  ----------------------------------------------------------------------\n",
      " |  Data descriptors defined here:\n",
      " |  \n",
      " |  __dict__\n",
      " |      dictionary for instance variables (if defined)\n",
      " |  \n",
      " |  __weakref__\n",
      " |      list of weak references to the object (if defined)\n",
      " |  \n",
      " |  thisown\n",
      " |      The membership flag\n",
      " |  \n",
      " |  ----------------------------------------------------------------------\n",
      " |  Data and other attributes defined here:\n",
      " |  \n",
      " |  __swig_destroy__ = <built-in function delete_Lattice>\n",
      " |      delete_Lattice(Lattice self)\n",
      "\n",
      "None\n"
     ]
    }
   ],
   "source": [
    " print(help(pocketsphinx.pocketsphinx.Lattice))"
   ]
  },
  {
   "cell_type": "code",
   "execution_count": 67,
   "metadata": {
    "collapsed": false
   },
   "outputs": [
    {
     "data": {
      "text/plain": [
       "{u'transcript': u'in a 2015 Joe Bertram challenge London mayor Boris Johnson'}"
      ]
     },
     "execution_count": 67,
     "metadata": {},
     "output_type": "execute_result"
    }
   ],
   "source": [
    "list['alternative'][1]"
   ]
  },
  {
   "cell_type": "code",
   "execution_count": 54,
   "metadata": {
    "collapsed": false
   },
   "outputs": [
    {
     "data": {
      "text/plain": [
       "{u'transcript': u'to visit one of these places that count disguises himself as it goes to the nun who was buried alive there and one of these places a man speech about lust of the flesh is interrupted by the arrival of his three daughters who wear velvet silk and first a Belgian man who has one of these places consentino partly inspired the title character of a posthumous Lee published a tablet reading marks the grave of a character who died'}"
      ]
     },
     "execution_count": 54,
     "metadata": {},
     "output_type": "execute_result"
    }
   ],
   "source": [
    "list['alternative'][2]"
   ]
  },
  {
   "cell_type": "markdown",
   "metadata": {},
   "source": [
    "## Speech Recognition"
   ]
  },
  {
   "cell_type": "markdown",
   "metadata": {},
   "source": [
    "Data used:\n",
    "\n",
    "qb/data/questions/expo/2015_hsnct.csv\n",
    "qb/data/questions/expo/2015_jennings.csv\n",
    "qb/data/questions/expo/2015_jennings.power.csv\n",
    "qb/data/questions/expo/2016_hsnct.csv\n",
    "qb/data/questions/expo/2016_naacl.csv\n",
    "qb/data/questions/expo/2017_hsnct.csv\n",
    "qb/data/questions/expo/2017_hsnct.power.csv"
   ]
  },
  {
   "cell_type": "markdown",
   "metadata": {},
   "source": [
    "### Store Text in Dict by Document and Convert Text to Speech "
   ]
  },
  {
   "cell_type": "code",
   "execution_count": null,
   "metadata": {
    "collapsed": false,
    "scrolled": true
   },
   "outputs": [],
   "source": [
    "%%time\n",
    "#~7 minutes\n",
    "\n",
    "#stores questions by document\n",
    "storage = defaultdict(lambda : defaultdict(dict))\n",
    "\n",
    "#loop through each document (only CSV files in the QB data folder)\n",
    "for each_file in glob.glob('../../qb/data/questions/expo/*.csv'):\n",
    "    \n",
    "    print (each_file)\n",
    "    \n",
    "    with open(each_file) as f:\n",
    "        file_storage = []\n",
    "        data = csv.reader(f)\n",
    "        \n",
    "        #dump header\n",
    "        header = next(data)\n",
    "        if \"text\" in header:\n",
    "            #find proper index of question text\n",
    "            correct_col = header.index(\"text\")\n",
    "            \n",
    "            #keep track of question number\n",
    "            counter = 0\n",
    "            for line in data:\n",
    "                text = (line[correct_col])\n",
    "                file_storage.append(text)\n",
    "                sentences = text.split('.')\n",
    "\n",
    "                try:\n",
    "                    counter_sent = 0\n",
    "                    for sentence in sentences:\n",
    "                        if sentence:\n",
    "                            #convert into audio with gTTS, save it to mp3, convert it to WAV\n",
    "                            sentTTS = gTTS(sentence, lang='en', slow=False)\n",
    "                            file_name = each_file + \"_\" +str(counter) + \"_\" + str (counter_sent)\n",
    "                            sentTTS.save(file_name+\".mp3\")\n",
    "                            subprocess.call(['ffmpeg', '-i', file_name+\".mp3\",\n",
    "                            file_name + '.wav'])\n",
    "                            storage[each_file][counter][counter_sent] = sentence \n",
    "                            counter_sent +=1\n",
    "                    counter += 1\n",
    "                    \n",
    "                except:\n",
    "                    print \"Processing issue.  Did not load: \" + str(line)\n",
    "                \n",
    "            "
   ]
  },
  {
   "cell_type": "code",
   "execution_count": null,
   "metadata": {
    "collapsed": false
   },
   "outputs": [],
   "source": [
    "print storage['../../qb/data/questions/expo/2016_naacl.csv'][0][5]"
   ]
  },
  {
   "cell_type": "markdown",
   "metadata": {},
   "source": [
    "### Decipher Each Audio File with PocketSphinx and Calculate Bleu Score"
   ]
  },
  {
   "cell_type": "code",
   "execution_count": null,
   "metadata": {
    "collapsed": false
   },
   "outputs": [],
   "source": [
    "%%time\n",
    "#~51 minutes\n",
    "\n",
    "#keep track of bleu score\n",
    "processed_speech = defaultdict(lambda : defaultdict(list))\n",
    "processed_speech_scores = []\n",
    "\n",
    "record_data = dict()\n",
    "for each_file in glob.glob('../../qb/data/questions/expo/*.wav'):\n",
    "    r = sr.Recognizer()\n",
    "    with sr.AudioFile(each_file) as source:              \n",
    "        audio = r.record(source)\n",
    "       \n",
    "        #PocketSphinx is used locally to decipher the audio\n",
    "        audio_data = r.recognize_sphinx(audio) \n",
    "        #find the appropriate file and question number.  WAV files contain this information\n",
    "        #lower for bleu score calculation\n",
    "        \n",
    "        try:\n",
    "            file_name = each_file[0:each_file.rfind('_', 0,  each_file.rfind('_'))]\n",
    "            question_number = int(each_file [each_file.rfind('_',0, each_file.rfind('_'))+1:each_file.rfind('_')])\n",
    "            sentence_number = int(each_file[each_file.rfind('_')+1:each_file.rfind('.')])\n",
    "            \n",
    "            text_data = storage[file_name][question_number][sentence_number].lower()\n",
    "            processed_speech[file_name][question_number].append(audio_data)\n",
    "        except:\n",
    "            print \"Issue opening: \" + each_file\n",
    "        \n",
    "        \n",
    "        #calculate bleu score with NLTK\n",
    "        try:\n",
    "            processed_speech_scores.append(bleu.sentence_bleu(audio_data, text_data))\n",
    "    \n",
    "        except: \n",
    "            print \"Issue with: \" + text_data"
   ]
  },
  {
   "cell_type": "code",
   "execution_count": null,
   "metadata": {
    "collapsed": false
   },
   "outputs": [],
   "source": [
    "for i in processed_speech['../../qb/data/questions/expo/2016_naacl.csv']:\n",
    "    processed_speech['../../qb/data/questions/expo/2016_naacl.csv'][i]"
   ]
  },
  {
   "cell_type": "markdown",
   "metadata": {},
   "source": [
    "## Results"
   ]
  },
  {
   "cell_type": "code",
   "execution_count": null,
   "metadata": {
    "collapsed": false,
    "scrolled": true
   },
   "outputs": [],
   "source": [
    "print stats.describe(processed_speech_scores)\n",
    "\n",
    "plt.title(\"Slow QB Questions Bleu Scores\")\n",
    "plt.hist (processed_speech_scores)\n",
    "plt.style.use('seaborn-pastel')\n",
    "plt.xlabel(\"Normalized Bleu Score\")\n",
    "plt.xticks([0.0, 0.25, 0.5, 0.75, 1.0])\n",
    "plt.ylabel(\"Frequency\")\n",
    "plt.show()"
   ]
  },
  {
   "cell_type": "code",
   "execution_count": null,
   "metadata": {
    "collapsed": false
   },
   "outputs": [],
   "source": [
    "for k in storage.keys():\n",
    "    print len(storage[k])"
   ]
  },
  {
   "cell_type": "code",
   "execution_count": null,
   "metadata": {
    "collapsed": true
   },
   "outputs": [],
   "source": [
    "import requests\n",
    "\n",
    "def answer_question(text):\n",
    "    response = requests.post(\n",
    "        'http://trantor.entilzha.io:5000/api/answer_question',\n",
    "        data={'text': text}\n",
    "    ).json()\n",
    "    return response['guess'], response['score']"
   ]
  },
  {
   "cell_type": "code",
   "execution_count": null,
   "metadata": {
    "collapsed": false
   },
   "outputs": [],
   "source": [
    "text = processed_speech['../../qb/data/questions/expo/2016_naacl.csv'][0]\n",
    "text = ' '.join(text)\n",
    "answer_question(text)"
   ]
  },
  {
   "cell_type": "code",
   "execution_count": null,
   "metadata": {
    "collapsed": false,
    "scrolled": true
   },
   "outputs": [],
   "source": [
    "full = \"\"\n",
    "for i in storage['../../qb/data/questions/expo/2016_naacl.csv']:\n",
    "     print answer_question(' '.join(storage['../../qb/data/questions/expo/2016_naacl.csv'][i].values()))"
   ]
  },
  {
   "cell_type": "markdown",
   "metadata": {},
   "source": [
    "## Exploration of Quiz Bowl Data"
   ]
  },
  {
   "cell_type": "markdown",
   "metadata": {},
   "source": [
    "### Word Length"
   ]
  },
  {
   "cell_type": "code",
   "execution_count": null,
   "metadata": {
    "collapsed": false
   },
   "outputs": [],
   "source": [
    "word_len = []\n",
    "for doc in storage:\n",
    "    for line in storage[doc]:\n",
    "        for sentence in storage[doc][line]:\n",
    "            for word in storage[doc][line][sentence].split():\n",
    "                word_len.append(len(word))\n",
    "\n",
    "print (stats.describe(word_len))\n",
    "\n",
    "plt.figure(figsize=(20, 10))\n",
    "plt.hist(word_len)\n",
    "plt.title(\"QB Word Length Histogram\")\n",
    "x_ticks = [0, 5, 10, 15, 20]\n",
    "plt.xticks(x_ticks)\n",
    "plt.show()"
   ]
  },
  {
   "cell_type": "markdown",
   "metadata": {},
   "source": [
    "### Audio Word Length"
   ]
  },
  {
   "cell_type": "code",
   "execution_count": null,
   "metadata": {
    "collapsed": false
   },
   "outputs": [],
   "source": [
    "word_len = []\n",
    "for doc in processed_speech:\n",
    "    for line in processed_speech[doc]:\n",
    "        for sentence in processed_speech[doc][line]:\n",
    "            for word in sentence.split():\n",
    "                word_len.append(len(word))\n",
    "\n",
    "print (stats.describe(word_len))\n",
    "\n",
    "plt.figure(figsize=(20, 10))\n",
    "plt.hist(word_len)\n",
    "plt.title(\"QB Word Length Histogram\")\n",
    "x_ticks = [0, 5, 10, 15, 20]\n",
    "plt.xticks(x_ticks)\n",
    "plt.show()"
   ]
  },
  {
   "cell_type": "markdown",
   "metadata": {},
   "source": [
    "### Word Count"
   ]
  },
  {
   "cell_type": "code",
   "execution_count": null,
   "metadata": {
    "collapsed": false
   },
   "outputs": [],
   "source": [
    "#dump everything into single list and run Counter on this.\n",
    "single_list = []\n",
    "for doc in storage:\n",
    "    for line in storage[doc]:\n",
    "        single_list.append(line) \n",
    "wordcount = Counter(' '.join(single_list).split())\n",
    "\n",
    "a = [x[0] for x in wordcount.most_common(100)]\n",
    "y = [x[1] for x in wordcount.most_common(100)]\n",
    "\n",
    "\n",
    "pprint.pprint(a[:20])\n",
    "\n",
    "x = np.arange(len(a))\n",
    "\n",
    "\n",
    "plt.figure(figsize=(20, 10))\n",
    "plt.title(\"Zipf's Law Holds for QB\")\n",
    "plt.xlabel(\"Word Rank\")\n",
    "plt.ylabel(\"Frequency\")\n",
    "plt.bar(x, y, align = 'edge')\n",
    "plt.show()"
   ]
  }
 ],
 "metadata": {
  "anaconda-cloud": {},
  "kernelspec": {
   "display_name": "Python [default]",
   "language": "python",
   "name": "python2"
  },
  "language_info": {
   "codemirror_mode": {
    "name": "ipython",
    "version": 2
   },
   "file_extension": ".py",
   "mimetype": "text/x-python",
   "name": "python",
   "nbconvert_exporter": "python",
   "pygments_lexer": "ipython2",
   "version": "2.7.12"
  }
 },
 "nbformat": 4,
 "nbformat_minor": 1
}
