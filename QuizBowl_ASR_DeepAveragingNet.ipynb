{
 "cells": [
  {
   "cell_type": "markdown",
   "metadata": {},
   "source": [
    "## Dependencies - helpful Python tools, PyTorch"
   ]
  },
  {
   "cell_type": "code",
   "execution_count": 1,
   "metadata": {
    "collapsed": true
   },
   "outputs": [],
   "source": [
    "import json\n",
    "from sklearn.feature_extraction.text import CountVectorizer\n",
    "from tqdm import tqdm_notebook\n",
    "import numpy as np\n",
    "import string\n",
    "import torch\n",
    "import torch.nn as nn\n",
    "import torch.nn.functional as F\n",
    "import torch.optim as optim\n",
    "from torch.autograd import Variable"
   ]
  },
  {
   "cell_type": "markdown",
   "metadata": {},
   "source": [
    "## Data Ingestion"
   ]
  },
  {
   "cell_type": "code",
   "execution_count": null,
   "metadata": {
    "collapsed": true
   },
   "outputs": [],
   "source": [
    "#data created earlier in another script\n",
    "#format: [ [[w1, c1], [w2, c2]...] , answer]\n",
    "\n",
    "with open('word_confidences.json') as fp:\n",
    "    data = json.load(fp)\n",
    "data = data['data']    \n",
    "X = [d[0] for d in data]\n",
    "y = [d[1] for d in data]\n",
    "X_train_raw = X[:4000]\n",
    "y_train = y[:4000]\n",
    "X_test_raw = X[4000:5000]\n",
    "y_test = y[4000:5000]\n",
    "\n",
    "#add shuffling"
   ]
  },
  {
   "cell_type": "markdown",
   "metadata": {},
   "source": [
    "## Helper Functions - read Glove Embeddings and convert words into Torch Tensor"
   ]
  },
  {
   "cell_type": "code",
   "execution_count": null,
   "metadata": {
    "collapsed": true
   },
   "outputs": [],
   "source": [
    "def read_embeddings(input_file='pytorch-reading-group/data/glove.6B.50d.txt', length=50):\n",
    "    vectors, word_to_ix, ix_to_word = [], {}, []\n",
    "    with open(input_file) as fp:\n",
    "        for line in fp:\n",
    "            # get the word and the vector\n",
    "            word, *vector = line.split()\n",
    "            vector = [float(i) for i in vector]\n",
    "            # ensure that the vector is the correct length\n",
    "            if len(vector) != length: continue\n",
    "            word_to_ix[word] = len(ix_to_word) \n",
    "            ix_to_word.append(word)\n",
    "            vectors.append(vector)\n",
    "    return np.array(vectors), word_to_ix, ix_to_word\n",
    "\n",
    "vectors, word_to_ix, ix_to_word = read_embeddings()\n",
    "vectors = torch.from_numpy(vectors).float()\n",
    "\n",
    "def prepare_sequence(seq, to_ix):\n",
    "    idxs = []\n",
    "    for w in seq:    \n",
    "        if w in to_ix:\n",
    "            idxs.append(to_ix[w])\n",
    "\n",
    "    tensor = torch.LongTensor(idxs)\n",
    "    return Variable(tensor)"
   ]
  },
  {
   "cell_type": "markdown",
   "metadata": {},
   "source": [
    "## Model"
   ]
  },
  {
   "cell_type": "code",
   "execution_count": null,
   "metadata": {
    "collapsed": true
   },
   "outputs": [],
   "source": [
    "class ConfidenceLearner(nn.Module):\n",
    "    def __init__(self, n_embeddings, n_confidences):\n",
    "        self.transform = nn.Linear(embeddings_dim + confidences_dim, 1)\n",
    "    \n",
    "    def forward(self, embeds, confs):\n",
    "        concat = torch.cat(embeds, confs)\n",
    "        return sigmoid(self.transform(concat)) #concat?"
   ]
  },
  {
   "cell_type": "code",
   "execution_count": null,
   "metadata": {
    "collapsed": true
   },
   "outputs": [],
   "source": [
    "class DAN(nn.Module):\n",
    "    def __init__(self, embedding_dim, \n",
    "                 h1_dim, h2_dim vocab_size, answer_size):\n",
    "        super(DAN, self).__init__()\n",
    "        #load embeddings from GloVe and freez them\n",
    "        self.word_embeddings = nn.Embedding(vocab_size, embedding_dim)\n",
    "        self.word_embeddings.weight.data = vectors\n",
    "        self.word_embeddings.weight.requires_grad = False\n",
    "        \n",
    "        #confidences are learned from word_embeddings and respective word_confidence\n",
    "        self.confidences = ConfidenceLearner()\n",
    "        \n",
    "        self.h1 = nn.Linear(h1_dim, h2_dim)\n",
    "        self.h2 = nn.Linear(h2_dim, answer_size)\n",
    "    \n",
    "    def forward(self, x):\n",
    "        idx, confs = x\n",
    "        embeds = self.word_embeddings(x)\n",
    "        confidence = self.confidences(self.word_embeddings, confs)\n",
    "        multiplied = [embed * confidence for embed in embeds]\n",
    "        hidden = self.h1(multiplied)\n",
    "        answers = self.h2(hidden)\n",
    "        score = F.log_softmax(answers, dim=1)\n",
    "        return score"
   ]
  },
  {
   "cell_type": "markdown",
   "metadata": {},
   "source": [
    "## Train"
   ]
  },
  {
   "cell_type": "code",
   "execution_count": null,
   "metadata": {
    "collapsed": true
   },
   "outputs": [],
   "source": [
    "EMBEDDING_DIM = 50 #update to 300 later\n",
    "HIDDEN_DIM = 300 #Pedro used 1000 but only one layer\n",
    "EPOCH = 15\n",
    "model = DAN(EMBEDDING_DIM, HIDDEN_DIM, len(word_to_ix), len(possible_answers))\n",
    "loss_function = nn.NLLLoss()\n",
    "optimizer = optim.SGD(filter(lambda p: p.requires_grad, model.parameters()), lr=0.003)\n",
    "losses = []\n",
    "\n",
    "for i in range(EPOCH):\n",
    "    for index, sentence in tqdm_notebook(enumerate(X_train_raw), total = len(X_train_raw)):\n",
    "        model.zero_grad()\n",
    "        model.hidden = model.init_hidden()\n",
    "        inputs = prepare_sequence(sentence, word_to_ix)\n",
    "\n",
    "        #will this be issue?  Will answer be in GloVe?  If not what happens?\n",
    "        correct_output = prepare_sequence(y_train[index, word_to_ix)\n",
    "\n",
    "        #input should be in format [[1x1]confidence*[1x50]embedding]\n",
    "        output = model (inputs)\n",
    "        loss = loss_function(output, correct_output)\n",
    "        loss.backward()\n",
    "        optimizer.step()"
   ]
  }
 ],
 "metadata": {
  "kernelspec": {
   "display_name": "Python [conda env:ASR]",
   "language": "python",
   "name": "conda-env-ASR-py"
  },
  "language_info": {
   "codemirror_mode": {
    "name": "ipython",
    "version": 3
   },
   "file_extension": ".py",
   "mimetype": "text/x-python",
   "name": "python",
   "nbconvert_exporter": "python",
   "pygments_lexer": "ipython3",
   "version": "3.6.4"
  }
 },
 "nbformat": 4,
 "nbformat_minor": 2
}
