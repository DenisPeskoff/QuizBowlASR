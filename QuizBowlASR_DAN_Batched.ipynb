{
 "cells": [
  {
   "cell_type": "markdown",
   "metadata": {},
   "source": [
    "# Improving a DAN trained on clean data with ASR Confidences"
   ]
  },
  {
   "cell_type": "markdown",
   "metadata": {},
   "source": [
    "The following notebook reads (clean and ASR) QuizBowl data using a file called \"dataset.py\" and builds a Deep Averaging Network that leverages confidences to improve over the baseline."
   ]
  },
  {
   "cell_type": "markdown",
   "metadata": {},
   "source": [
    "## Dependencies - helpful Python tools, PyTorch"
   ]
  },
  {
   "cell_type": "code",
   "execution_count": null,
   "metadata": {
    "collapsed": true
   },
   "outputs": [],
   "source": [
    "#general python\n",
    "import json\n",
    "from sklearn.feature_extraction.text import CountVectorizer\n",
    "from tqdm import tqdm_notebook\n",
    "import numpy as np\n",
    "import string\n",
    "from sklearn.metrics import accuracy_score\n",
    "import time\n",
    "from typing import List, Optional, Dict\n",
    "import matplotlib.pyplot as plt\n",
    "%matplotlib inline\n",
    "from tqdm import tqdm_notebook \n",
    "\n",
    "#torch\n",
    "import torch\n",
    "import torch.nn as nn\n",
    "import torch.nn.functional as F\n",
    "import torch.optim as optim\n",
    "from torch.autograd import Variable\n",
    "\n",
    "#torchtext.  Dataset is a custom file for handling this data\n",
    "from dataset import QuizBowl\n",
    "from torchtext.data.field import Field\n",
    "from torchtext.data.iterator import Iterator"
   ]
  },
  {
   "cell_type": "code",
   "execution_count": null,
   "metadata": {
    "collapsed": true
   },
   "outputs": [],
   "source": [
    "#legacy code to refresh dataset\n",
    "import dataset\n",
    "import importlib\n",
    "importlib.reload(dataset)"
   ]
  },
  {
   "cell_type": "markdown",
   "metadata": {},
   "source": [
    "## Model"
   ]
  },
  {
   "cell_type": "markdown",
   "metadata": {},
   "source": [
    "The following section contains code that designs a Deep Averaging Network, variations thereupon in ascending order of complexity, and classes that learn confidence functions"
   ]
  },
  {
   "cell_type": "code",
   "execution_count": null,
   "metadata": {
    "collapsed": true
   },
   "outputs": [],
   "source": [
    "class LogRegression(nn.Module):\n",
    "    def __init__(self, embedding_dim, \n",
    "                 h1_dim, text_field, answer_size):\n",
    "        super(LogRegression, self).__init__()\n",
    "        text_vocab = text_field.vocab\n",
    "        self.text_vocab_size = len(text_vocab)\n",
    "        text_pad_idx = text_vocab.stoi[text_field.pad_token]\n",
    "        self.text_embeddings = nn.Embedding(self.text_vocab_size, embedding_dim, padding_idx=text_pad_idx)\n",
    "        self.text_field = text_field\n",
    "\n",
    "        mean_emb = text_vocab.vectors.mean(0)\n",
    "        text_vocab.vectors[text_vocab.stoi[text_field.unk_token]] = mean_emb\n",
    "        self.text_embeddings.weight.data = text_vocab.vectors#.cuda()\n",
    "        self.text_embeddings.weight.requires_grad = False\n",
    "        #freeze the embeddings\n",
    "        \n",
    "        self.dropout = nn.Dropout(p=0.2)\n",
    "        self.classifier = nn.Sequential(\n",
    "            nn.Linear(embedding_dim, answer_size),\n",
    "            nn.BatchNorm1d(answer_size),\n",
    "            nn.Dropout(.15)\n",
    "        )\n",
    "        \n",
    "    def _pool(self, embed, lengths, batch_size):\n",
    "        return embed.sum(1) / lengths.view(batch_size, -1)\n",
    "    \n",
    "    def forward(self, input_: Dict[str, Variable], lengths: Dict, qnums): \n",
    "        for key in lengths:\n",
    "            if not isinstance(lengths[key], Variable):\n",
    "                lengths[key] = Variable(lengths[key].float(), volatile=not self.training)\n",
    "                \n",
    "        if self.text_field is not None:\n",
    "            text_input = input_['text']\n",
    "            embed = self.text_embeddings(text_input)\n",
    "            embed = self._pool(embed, lengths['text'].float(), text_input.size()[0])\n",
    "            embed = self.dropout(embed)\n",
    "            return self.classifier(embed)"
   ]
  },
  {
   "cell_type": "markdown",
   "metadata": {},
   "source": [
    "Relative to the logistic regression above, the DAN adds in a hidden layer of 1000 units towards the end the network"
   ]
  },
  {
   "cell_type": "code",
   "execution_count": 21,
   "metadata": {
    "collapsed": true
   },
   "outputs": [],
   "source": [
    "class DAN(nn.Module):\n",
    "    def __init__(self, embedding_dim, \n",
    "                 h1_dim, text_field, answer_size):\n",
    "        super(DAN, self).__init__()\n",
    "        text_vocab = text_field.vocab\n",
    "        self.text_vocab_size = len(text_vocab)\n",
    "        text_pad_idx = text_vocab.stoi[text_field.pad_token]\n",
    "        \n",
    "        #run the vocab through Glove Embeddings\n",
    "        self.text_embeddings = nn.Embedding(self.text_vocab_size, embedding_dim, padding_idx=text_pad_idx)\n",
    "        self.text_field = text_field\n",
    "        \n",
    "        #set the unknown items to the mean embedding\n",
    "        mean_emb = text_vocab.vectors.mean(0)\n",
    "        text_vocab.vectors[text_vocab.stoi[text_field.unk_token]] = mean_emb\n",
    "        self.text_embeddings.weight.data = text_vocab.vectors#.cuda()\n",
    "        #freeze the embeddings\n",
    "        self.text_embeddings.weight.requires_grad = False \n",
    "        \n",
    "        #layers used in the network\n",
    "        self.dropout = nn.Dropout(p=0.2)\n",
    "        self.nonlinear = nn.ELU()\n",
    "        self.h1 = nn.Linear(embedding_dim, h1_dim)\n",
    "        \n",
    "        self.classifier = nn.Sequential(\n",
    "            nn.Linear(h1_dim, answer_size),\n",
    "            nn.BatchNorm1d(answer_size),\n",
    "            nn.Dropout(.15)\n",
    "        )\n",
    "\n",
    "    def _pool(self, embed, lengths, batch_size):\n",
    "        return embed.sum(1) / lengths.view(batch_size, -1)\n",
    "    \n",
    "    def forward(self, input_: Dict[str, Variable], lengths: Dict, qnums): \n",
    "        for key in lengths:\n",
    "            if not isinstance(lengths[key], Variable):\n",
    "                lengths[key] = Variable(lengths[key].float(), volatile=not self.training)\n",
    "        \n",
    "        #if the text exists, run it through embeddings, pool, dropout, and then run it through a hidden layer\n",
    "        if self.text_field is not None:\n",
    "            text_input = input_['text']\n",
    "            embed = self.text_embeddings(text_input)\n",
    "            embed = self._pool(embed, lengths['text'].float(), text_input.size()[0])\n",
    "            embed = self.dropout(embed)\n",
    "            answers = self.h1(embed)\n",
    "            answers = self.nonlinear(answers)\n",
    "            return F.softmax(self.classifier(answers), dim=1)"
   ]
  },
  {
   "cell_type": "markdown",
   "metadata": {},
   "source": [
    "The below Confidence Learner is used to learn mappings from embeddings and confidences to a single value.  This is used in the modified DAN that follows. The simple confidence learner simply passes on the confidence."
   ]
  },
  {
   "cell_type": "code",
   "execution_count": null,
   "metadata": {
    "collapsed": true
   },
   "outputs": [],
   "source": [
    "class ConfidenceLearner(nn.Module):\n",
    "    def __init__(self, embeddings_dim, confidences_dim):\n",
    "        super(ConfidenceLearner, self).__init__()\n",
    "        self.transform = nn.Linear(embeddings_dim + confidences_dim, 1)\n",
    "    \n",
    "    def forward(self, embeds, confs):\n",
    "        confs = confs.view(-1, 1)\n",
    "        concat = torch.cat((embeds, confs), 1)\n",
    "        return torch.sigmoid(self.transform(concat))"
   ]
  },
  {
   "cell_type": "code",
   "execution_count": null,
   "metadata": {
    "collapsed": true
   },
   "outputs": [],
   "source": [
    "class SimpleConfidenceLearner(nn.Module):\n",
    "    def __init__(self, embeddings_dim, confidences_dim):\n",
    "        #does nothing\n",
    "        pass\n",
    "    \n",
    "    def forward(self, embeds, confs):\n",
    "        return confs"
   ]
  },
  {
   "cell_type": "markdown",
   "metadata": {},
   "source": [
    "This DAN ingests a \"confidence\" field from TorchText, which is a vector of confidences in range 0-1. Both init and forward are adjusted to accomodate this."
   ]
  },
  {
   "cell_type": "code",
   "execution_count": null,
   "metadata": {
    "collapsed": true
   },
   "outputs": [],
   "source": [
    "class DAN_Confidences(nn.Module):\n",
    "    def __init__(self, embedding_dim, \n",
    "                 h1_dim, text_field, answer_size):\n",
    "        super(DAN, self).__init__()\n",
    "        text_vocab = text_field.vocab\n",
    "        self.text_vocab_size = len(text_vocab)\n",
    "        text_pad_idx = text_vocab.stoi[text_field.pad_token]\n",
    "        self.text_embeddings = nn.Embedding(self.text_vocab_size, embedding_dim, padding_idx=text_pad_idx)\n",
    "        self.text_field = text_field\n",
    "\n",
    "        mean_emb = text_vocab.vectors.mean(0)\n",
    "        text_vocab.vectors[text_vocab.stoi[text_field.unk_token]] = mean_emb\n",
    "        self.text_embeddings.weight.data = text_vocab.vectors#.cuda()\n",
    "        self.text_embeddings.weight.requires_grad = False\n",
    "        #freeze the embeddings\n",
    "        \n",
    "        #confidences are learned from word_embeddings and respective word_confidence\n",
    "        #self.confidences = ConfidenceLearner(embedding_dim, 1)\n",
    "        self.dropout = nn.Dropout(p=0.2)\n",
    "        self.h1 = nn.Linear(embedding_dim, h1_dim)\n",
    "        self.classifier = nn.Sequential(\n",
    "            nn.Linear(h1_dim+1, answer_size),\n",
    "            nn.BatchNorm1d(answer_size),\n",
    "            nn.Dropout(.15)\n",
    "        )\n",
    "        \n",
    "    def _pool(self, embed, lengths, batch_size):\n",
    "        return embed.sum(1) / lengths.view(batch_size, -1)\n",
    "    \n",
    "    def forward(self, input_: Dict[str, Variable], lengths: Dict, qnums): \n",
    "        for key in lengths:\n",
    "            if not isinstance(lengths[key], Variable):\n",
    "                lengths[key] = Variable(lengths[key].float(), volatile=not self.training)\n",
    "                \n",
    "        if self.text_field is not None:\n",
    "            text_input = input_['text']\n",
    "            conf_input = input_['confidence']\n",
    "            embed = self.text_embeddings(text_input)\n",
    "            #confidences = self.confidences(embed)\n",
    "            embed = self._pool(embed, lengths['text'].float(), text_input.size()[0])\n",
    "            embed = self.dropout(embed)\n",
    "            answers = self.h1(embed)\n",
    "          \n",
    "            answer = answers.append(conf_input.mean(dim = 0))\n",
    "            #nonlinearity after linearity\n",
    "            return F.softmax(self.classifier(answers), dim = 1)\n",
    "        \n",
    "        \n",
    "        #layer.weights.data[:, -1] = pretrainedweights\n",
    "        #layer.bias.data[: -1]"
   ]
  },
  {
   "cell_type": "code",
   "execution_count": null,
   "metadata": {
    "collapsed": true
   },
   "outputs": [],
   "source": [
    "class DAN_WeightedMean(nn.Module):\n",
    "    def __init__(self, embedding_dim, \n",
    "                 h1_dim, text_field, answer_size):\n",
    "        super(DAN, self).__init__()\n",
    "        text_vocab = text_field.vocab\n",
    "        self.text_vocab_size = len(text_vocab)\n",
    "        text_pad_idx = text_vocab.stoi[text_field.pad_token]\n",
    "        self.text_embeddings = nn.Embedding(self.text_vocab_size, embedding_dim, padding_idx=text_pad_idx)\n",
    "        self.text_field = text_field\n",
    "\n",
    "        mean_emb = text_vocab.vectors.mean(0)\n",
    "        text_vocab.vectors[text_vocab.stoi[text_field.unk_token]] = mean_emb\n",
    "        self.text_embeddings.weight.data = text_vocab.vectors#.cuda()\n",
    "        self.text_embeddings.weight.requires_grad = False\n",
    "        #freeze the embeddings\n",
    "        \n",
    "        #confidences are learned from word_embeddings and respective word_confidence\n",
    "        self.confidences = ConfidenceLearner(embedding_dim, 1)\n",
    "        self.dropout = nn.Dropout(p=0.2)\n",
    "        self.h1 = nn.Linear(embedding_dim, h1_dim)\n",
    "        self.classifier = nn.Sequential(\n",
    "            nn.Linear(h1_dim+1, answer_size),\n",
    "            nn.BatchNorm1d(answer_size),\n",
    "            nn.Dropout(.15)\n",
    "        )\n",
    "        \n",
    "    def _pool(self,  embed, lengths, #add confidence here batch_size):\n",
    "        embed = embed * confidences\n",
    "        return embed.sum(1) / confidences.sum(dim = 1)\n",
    "              \n",
    "        #for learning variation\n",
    "              #pass in output of CONFIDENCE LEARNER into POOOl\n",
    "              #dimensions will be the same, just learning new value for confidence\n",
    "    \n",
    "    def forward(self, input_: Dict[str, Variable], lengths: Dict, qnums): \n",
    "        for key in lengths:\n",
    "            if not isinstance(lengths[key], Variable):\n",
    "                lengths[key] = Variable(lengths[key].float(), volatile=not self.training)\n",
    "                \n",
    "        if self.text_field is not None:\n",
    "            text_input = input_['text']\n",
    "            conf_input = input_['confidence']\n",
    "            embed = self.text_embeddings(text_input)\n",
    "            #confidences = self.confidences(embed)\n",
    "            embed = self._pool(embed, lengths['text'].float(), text_input.size()[0])\n",
    "            embed = self.dropout(embed)\n",
    "            answers = self.h1(embed)\n",
    "            answer = answers.append(conf_input.mean(dim = 0))\n",
    "            #nonlinearity after linearity\n",
    "            return F.softmax(self.classifier(answers), dim = 1)"
   ]
  },
  {
   "cell_type": "markdown",
   "metadata": {},
   "source": [
    "## Data and Training"
   ]
  },
  {
   "cell_type": "markdown",
   "metadata": {},
   "source": [
    "The following code uses a custom class from dataset.py to read in the data into TorchText, which allows for easy batching in PyTorch."
   ]
  },
  {
   "cell_type": "code",
   "execution_count": null,
   "metadata": {
    "collapsed": true
   },
   "outputs": [],
   "source": [
    "train_iter, val_iter, dev_iter = QuizBowl.iters(\n",
    "            batch_size=512,\n",
    "            lower= True,\n",
    "            use_wiki=False,  #irrelevant\n",
    "            n_wiki_sentences=5, #irrelevant \n",
    "            replace_title_mentions='',\n",
    "            combined_ngrams=True,\n",
    "            unigrams=True, \n",
    "            bigrams=False, #irrelevant \n",
    "            trigrams=False, #irrelevant \n",
    "            combined_max_vocab_size=300000,\n",
    "            unigram_max_vocab_size= None, \n",
    "            bigram_max_vocab_size=50000, #irrelevant \n",
    "            trigram_max_vocab_size=50000 #irrelevant \n",
    "        )"
   ]
  },
  {
   "cell_type": "code",
   "execution_count": 3,
   "metadata": {
    "collapsed": true
   },
   "outputs": [],
   "source": [
    "import dataset_confidence\n",
    "import importlib\n",
    "importlib.reload(dataset_confidence)\n",
    "train_iter, val_iter, dev_iter = dataset_confidence.QuizBowl.iters(\n",
    "            batch_size=512,\n",
    "            lower= True,\n",
    "            use_wiki=False,  #irrelevant\n",
    "            n_wiki_sentences=5, #irrelevant \n",
    "            replace_title_mentions='',\n",
    "            combined_ngrams=True,\n",
    "            unigrams=True, \n",
    "            bigrams=False, #irrelevant \n",
    "            trigrams=False, #irrelevant \n",
    "            combined_max_vocab_size=300000,\n",
    "            unigram_max_vocab_size= None, \n",
    "            bigram_max_vocab_size=50000, #irrelevant \n",
    "            trigram_max_vocab_size=50000 #irrelevant \n",
    "        )"
   ]
  },
  {
   "cell_type": "code",
   "execution_count": 4,
   "metadata": {
    "collapsed": true
   },
   "outputs": [],
   "source": [
    "def run_epoch(iterator: Iterator):\n",
    "        is_train = iterator.train\n",
    "        batch_accuracies = []\n",
    "        batch_losses = []\n",
    "        epoch_start = time.time()\n",
    "        for batch in iterator:\n",
    "            input_dict = {}\n",
    "            lengths_dict = {}\n",
    "            if hasattr(batch, 'text'):\n",
    "                text, lengths = batch.text\n",
    "                input_dict['text'] = text\n",
    "                lengths_dict['text'] = lengths\n",
    "            page = batch.page\n",
    "            qnums = batch.qnum#.cuda()\n",
    "\n",
    "            if is_train:\n",
    "                model.zero_grad()\n",
    "\n",
    "            out = model(input_dict, lengths_dict, qnums)\n",
    "            _, preds = torch.max(out, 1)\n",
    "            accuracy = torch.mean(torch.eq(preds, page).float()).data[0]\n",
    "            batch_loss = loss_function(out, page)\n",
    "            if is_train:\n",
    "                batch_loss.backward()\n",
    "                torch.nn.utils.clip_grad_norm(model.parameters(), .25)\n",
    "                optimizer.step()\n",
    "\n",
    "            batch_accuracies.append(accuracy)\n",
    "            batch_losses.append(batch_loss.data[0])\n",
    "\n",
    "        epoch_end = time.time()\n",
    "\n",
    "        return np.mean(batch_accuracies), np.mean(batch_losses), epoch_end - epoch_start"
   ]
  },
  {
   "cell_type": "code",
   "execution_count": null,
   "metadata": {
    "collapsed": true
   },
   "outputs": [],
   "source": [
    "def run_epoch_confidences(iterator: Iterator):\n",
    "        is_train = iterator.train\n",
    "        batch_accuracies = []\n",
    "        batch_losses = []\n",
    "        epoch_start = time.time()\n",
    "        for batch in iterator:\n",
    "            input_dict = {}\n",
    "            lengths_dict = {}\n",
    "            if hasattr(batch, 'text'):\n",
    "                text, lengths = batch.text\n",
    "                input_dict['text'] = text\n",
    "                lengths_dict['text'] = lengths\n",
    "            page = batch.page\n",
    "            qnums = batch.qnum#.cuda()\n",
    "            if hasattr(batch, 'confidence'):\n",
    "                confidences = batch.confidence\n",
    "\n",
    "            if is_train:\n",
    "                model.zero_grad()\n",
    "\n",
    "            out = model(input_dict, lengths_dict, qnums)\n",
    "            _, preds = torch.max(out, 1)\n",
    "            accuracy = torch.mean(torch.eq(preds, page).float()).data[0]\n",
    "            batch_loss = loss_function(out, page)\n",
    "            if is_train:\n",
    "                batch_loss.backward()\n",
    "                torch.nn.utils.clip_grad_norm(model.parameters(), .25)\n",
    "                optimizer.step()\n",
    "\n",
    "            batch_accuracies.append(accuracy)\n",
    "            batch_losses.append(batch_loss.data[0])\n",
    "\n",
    "        epoch_end = time.time()\n",
    "\n",
    "        return np.mean(batch_accuracies), np.mean(batch_losses), epoch_end - epoch_start"
   ]
  },
  {
   "cell_type": "markdown",
   "metadata": {},
   "source": [
    "## Initialization"
   ]
  },
  {
   "cell_type": "code",
   "execution_count": 32,
   "metadata": {
    "collapsed": true
   },
   "outputs": [],
   "source": [
    "#Set the dimensions and epochs for model\n",
    "EMBEDDING_DIM = 300 \n",
    "HIDDEN_DIM = 1000 \n",
    "EPOCH = 20\n",
    "\n",
    "#extract fields to determine vocabulary size of answers\n",
    "fields: Dict[str, Field] = train_iter.dataset.fields\n",
    "page_field = fields['page']\n",
    "ANSWER_SIZE = len(page_field.vocab.stoi)\n",
    " \n",
    "# model = DAN(EMBEDDING_DIM,\n",
    "#              HIDDEN_DIM,\n",
    "#              fields['text'], \n",
    "#              ANSWER_SIZE)\n",
    "\n",
    "loss_function = nn.CrossEntropyLoss()\n",
    "optimizer = optim.Adam(filter(lambda p: p.requires_grad, model.parameters()), lr = 0.006)"
   ]
  },
  {
   "cell_type": "code",
   "execution_count": null,
   "metadata": {},
   "outputs": [
    {
     "data": {
      "application/vnd.jupyter.widget-view+json": {
       "model_id": "c0691cf5bac8452a98d53c5a725758c5",
       "version_major": 2,
       "version_minor": 0
      },
      "text/html": [
       "<p>Failed to display Jupyter Widget of type <code>HBox</code>.</p>\n",
       "<p>\n",
       "  If you're reading this message in the Jupyter Notebook or JupyterLab Notebook, it may mean\n",
       "  that the widgets JavaScript is still loading. If this message persists, it\n",
       "  likely means that the widgets JavaScript library is either not installed or\n",
       "  not enabled. See the <a href=\"https://ipywidgets.readthedocs.io/en/stable/user_install.html\">Jupyter\n",
       "  Widgets Documentation</a> for setup instructions.\n",
       "</p>\n",
       "<p>\n",
       "  If you're reading this message in another frontend (for example, a static\n",
       "  rendering on GitHub or <a href=\"https://nbviewer.jupyter.org/\">NBViewer</a>),\n",
       "  it may mean that your frontend doesn't currently support widgets.\n",
       "</p>\n"
      ],
      "text/plain": [
       "HBox(children=(IntProgress(value=0, max=20), HTML(value='')))"
      ]
     },
     "metadata": {},
     "output_type": "display_data"
    },
    {
     "name": "stdout",
     "output_type": "stream",
     "text": [
      "\n"
     ]
    },
    {
     "name": "stderr",
     "output_type": "stream",
     "text": [
      "Exception in thread Thread-7:\n",
      "Traceback (most recent call last):\n",
      "  File \"/Users/dpeskov/anaconda3/envs/ASR/lib/python3.6/threading.py\", line 916, in _bootstrap_inner\n",
      "    self.run()\n",
      "  File \"/Users/dpeskov/anaconda3/envs/ASR/lib/python3.6/site-packages/tqdm/_tqdm.py\", line 144, in run\n",
      "    for instance in self.tqdm_cls._instances:\n",
      "  File \"/Users/dpeskov/anaconda3/envs/ASR/lib/python3.6/_weakrefset.py\", line 60, in __iter__\n",
      "    for itemref in self.data:\n",
      "RuntimeError: Set changed size during iteration\n",
      "\n",
      "/Users/dpeskov/anaconda3/envs/ASR/lib/python3.6/site-packages/ipykernel/__main__.py:6: DeprecationWarning: generator 'Iterator.__iter__' raised StopIteration\n"
     ]
    }
   ],
   "source": [
    "#variables to generate graphs, save best model\n",
    "# train_losses, train_accuracies = [], []\n",
    "# val_losses, val_accuracies = [], []\n",
    "# best_accuracy = 0.\n",
    "\n",
    "for i in tqdm_notebook(range(EPOCH)):    \n",
    "    #train\n",
    "    model.train()\n",
    "    train_acc, train_loss, train_time = run_epoch(train_iter)\n",
    "    train_losses.append(train_loss)\n",
    "    train_accuracies.append(train_acc)\n",
    "    \n",
    "    #validate\n",
    "    model.eval()\n",
    "    val_acc, val_loss, val_time = run_epoch(val_iter)    \n",
    "    val_losses.append(val_loss)\n",
    "    val_accuracies.append(val_acc)\n",
    "    if val_acc > best_accuracy:\n",
    "        best_accuracy = val_acc\n",
    "        torch.save(model.state_dict(), './asrmodel.pth')"
   ]
  },
  {
   "cell_type": "code",
   "execution_count": null,
   "metadata": {
    "collapsed": true
   },
   "outputs": [],
   "source": [
    "#pretrainweights = model.classifier[0].weights.data\n",
    "# load from existing model\n",
    "\n",
    "#in the new model, in __init__\n",
    "#layer.weights.data[:, :-1] = pretrainedweights\n",
    "#layer.bias.data[:-1] #this is vector\n",
    "\n",
    "#for average, just give it existing weights"
   ]
  },
  {
   "cell_type": "markdown",
   "metadata": {},
   "source": [
    "## Results and Graphs"
   ]
  },
  {
   "cell_type": "code",
   "execution_count": 31,
   "metadata": {},
   "outputs": [
    {
     "name": "stderr",
     "output_type": "stream",
     "text": [
      "/Users/dpeskov/anaconda3/envs/ASR/lib/python3.6/site-packages/ipykernel/__main__.py:6: DeprecationWarning: generator 'Iterator.__iter__' raised StopIteration\n"
     ]
    },
    {
     "data": {
      "text/plain": [
       "0.10405074954032897"
      ]
     },
     "execution_count": 31,
     "metadata": {},
     "output_type": "execute_result"
    }
   ],
   "source": [
    "#Test on final.  Dev is taken from the ASR data, and not from Clean data, \n",
    "#so this can be dramatically lower than validation accuracy\n",
    "model.eval()\n",
    "test_acc, test_loss, test_time = run_epoch(dev_iter)\n",
    "test_acc"
   ]
  },
  {
   "cell_type": "code",
   "execution_count": null,
   "metadata": {},
   "outputs": [],
   "source": [
    "val_accuracies"
   ]
  },
  {
   "cell_type": "code",
   "execution_count": 26,
   "metadata": {},
   "outputs": [
    {
     "data": {
      "text/plain": [
       "[<matplotlib.lines.Line2D at 0x1a1da4ef98>]"
      ]
     },
     "execution_count": 26,
     "metadata": {},
     "output_type": "execute_result"
    },
    {
     "data": {
      "image/png": "[encoded data removed]",
      "text/plain": [
       "<matplotlib.figure.Figure at 0x1a1d9f82b0>"
      ]
     },
     "metadata": {},
     "output_type": "display_data"
    }
   ],
   "source": [
    "plt.title(\"LogRegression Val Accuracy\")\n",
    "plt.xlabel(\"Epoch\")\n",
    "plt.ylabel(\"Accuracy\")\n",
    "plt.plot(train_accuracies)"
   ]
  },
  {
   "cell_type": "code",
   "execution_count": 27,
   "metadata": {},
   "outputs": [
    {
     "data": {
      "text/plain": [
       "[<matplotlib.lines.Line2D at 0x1a1d771a90>]"
      ]
     },
     "execution_count": 27,
     "metadata": {},
     "output_type": "execute_result"
    },
    {
     "data": {
      "image/png": "[encoded data removed]",
      "text/plain": [
       "<matplotlib.figure.Figure at 0x10aac36a0>"
      ]
     },
     "metadata": {},
     "output_type": "display_data"
    }
   ],
   "source": [
    "plt.title(\"Loss\")\n",
    "plt.plot(val_losses)"
   ]
  },
  {
   "cell_type": "code",
   "execution_count": null,
   "metadata": {
    "collapsed": true
   },
   "outputs": [],
   "source": []
  }
 ],
 "metadata": {
  "kernelspec": {
   "display_name": "Python [conda env:ASR]",
   "language": "python",
   "name": "conda-env-ASR-py"
  },
  "language_info": {
   "codemirror_mode": {
    "name": "ipython",
    "version": 3
   },
   "file_extension": ".py",
   "mimetype": "text/x-python",
   "name": "python",
   "nbconvert_exporter": "python",
   "pygments_lexer": "ipython3",
   "version": "3.6.4"
  }
 },
 "nbformat": 4,
 "nbformat_minor": 2
}
